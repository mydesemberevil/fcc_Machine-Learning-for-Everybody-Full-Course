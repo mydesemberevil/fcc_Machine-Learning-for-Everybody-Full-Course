{
  "nbformat": 4,
  "nbformat_minor": 0,
  "metadata": {
    "colab": {
      "provenance": [],
      "authorship_tag": "ABX9TyNFFW10u3yyc0/D8bLsB501",
      "include_colab_link": true
    },
    "kernelspec": {
      "name": "python3",
      "display_name": "Python 3"
    },
    "language_info": {
      "name": "python"
    }
  },
  "cells": [
    {
      "cell_type": "markdown",
      "metadata": {
        "id": "view-in-github",
        "colab_type": "text"
      },
      "source": [
        "<a href=\"https://colab.research.google.com/github/mydesemberevil/fcc_Machine-Learning-for-Everybody-Full-Course/blob/main/Mengklasifikasikan_Gambar_Pakaian.ipynb\" target=\"_parent\"><img src=\"https://colab.research.google.com/assets/colab-badge.svg\" alt=\"Open In Colab\"/></a>"
      ]
    },
    {
      "cell_type": "code",
      "execution_count": 3,
      "metadata": {
        "colab": {
          "base_uri": "https://localhost:8080/"
        },
        "id": "JHbZB8ptASl9",
        "outputId": "d12e6a92-6883-42ab-94db-1ae43153e675"
      },
      "outputs": [
        {
          "output_type": "stream",
          "name": "stdout",
          "text": [
            "2.17.0\n"
          ]
        }
      ],
      "source": [
        "# TensorFlow and tf.keras\n",
        "import tensorflow as tf\n",
        "\n",
        "# Helper libraries\n",
        "import numpy as np\n",
        "import matplotlib.pyplot as plt\n",
        "\n",
        "print(tf.__version__)"
      ]
    },
    {
      "cell_type": "code",
      "source": [
        "fashion_mnist = tf.keras.datasets.fashion_mnist\n",
        "\n",
        "(train_images, train_labels), (test_images, test_labels) = fashion_mnist.load_data()"
      ],
      "metadata": {
        "colab": {
          "base_uri": "https://localhost:8080/"
        },
        "id": "wbWeAqnbAc5w",
        "outputId": "6b8d1633-adb7-4ec2-9f02-98d1f15cec50"
      },
      "execution_count": 4,
      "outputs": [
        {
          "output_type": "stream",
          "name": "stdout",
          "text": [
            "Downloading data from https://storage.googleapis.com/tensorflow/tf-keras-datasets/train-labels-idx1-ubyte.gz\n",
            "\u001b[1m29515/29515\u001b[0m \u001b[32m━━━━━━━━━━━━━━━━━━━━\u001b[0m\u001b[37m\u001b[0m \u001b[1m0s\u001b[0m 0us/step\n",
            "Downloading data from https://storage.googleapis.com/tensorflow/tf-keras-datasets/train-images-idx3-ubyte.gz\n",
            "\u001b[1m26421880/26421880\u001b[0m \u001b[32m━━━━━━━━━━━━━━━━━━━━\u001b[0m\u001b[37m\u001b[0m \u001b[1m0s\u001b[0m 0us/step\n",
            "Downloading data from https://storage.googleapis.com/tensorflow/tf-keras-datasets/t10k-labels-idx1-ubyte.gz\n",
            "\u001b[1m5148/5148\u001b[0m \u001b[32m━━━━━━━━━━━━━━━━━━━━\u001b[0m\u001b[37m\u001b[0m \u001b[1m0s\u001b[0m 1us/step\n",
            "Downloading data from https://storage.googleapis.com/tensorflow/tf-keras-datasets/t10k-images-idx3-ubyte.gz\n",
            "\u001b[1m4422102/4422102\u001b[0m \u001b[32m━━━━━━━━━━━━━━━━━━━━\u001b[0m\u001b[37m\u001b[0m \u001b[1m0s\u001b[0m 0us/step\n"
          ]
        }
      ]
    },
    {
      "cell_type": "code",
      "source": [
        "class_names = ['T-shirt/top', 'Trouser', 'Pullover', 'Dress', 'Coat',\n",
        "               'Sandal', 'Shirt', 'Sneaker', 'Bag', 'Ankle boot']"
      ],
      "metadata": {
        "id": "50yKeleSAro3"
      },
      "execution_count": 3,
      "outputs": []
    },
    {
      "cell_type": "code",
      "source": [
        "train_images.shape"
      ],
      "metadata": {
        "colab": {
          "base_uri": "https://localhost:8080/"
        },
        "id": "AYlgbHgiAwhM",
        "outputId": "a7cf258d-782c-4445-c553-c90ca7ef6142"
      },
      "execution_count": 5,
      "outputs": [
        {
          "output_type": "execute_result",
          "data": {
            "text/plain": [
              "(60000, 28, 28)"
            ]
          },
          "metadata": {},
          "execution_count": 5
        }
      ]
    },
    {
      "cell_type": "code",
      "source": [
        "train_labels.shape"
      ],
      "metadata": {
        "collapsed": true,
        "colab": {
          "base_uri": "https://localhost:8080/"
        },
        "id": "DAPlDTxpA2jn",
        "outputId": "712cd3aa-986e-4ba5-c761-035a43749e98"
      },
      "execution_count": 14,
      "outputs": [
        {
          "output_type": "execute_result",
          "data": {
            "text/plain": [
              "(60000,)"
            ]
          },
          "metadata": {},
          "execution_count": 14
        }
      ]
    },
    {
      "cell_type": "code",
      "source": [
        "len(train_labels)"
      ],
      "metadata": {
        "colab": {
          "base_uri": "https://localhost:8080/"
        },
        "id": "NJ3l2dm2BOoP",
        "outputId": "98d57f45-85d1-4d57-e8f3-339222638337"
      },
      "execution_count": 15,
      "outputs": [
        {
          "output_type": "execute_result",
          "data": {
            "text/plain": [
              "60000"
            ]
          },
          "metadata": {},
          "execution_count": 15
        }
      ]
    },
    {
      "cell_type": "code",
      "source": [
        "train_images.shape"
      ],
      "metadata": {
        "colab": {
          "base_uri": "https://localhost:8080/"
        },
        "id": "cH-S54HYjuPg",
        "outputId": "fae88230-81db-4129-ea4d-a6006a24bca7"
      },
      "execution_count": 6,
      "outputs": [
        {
          "output_type": "execute_result",
          "data": {
            "text/plain": [
              "(60000, 28, 28)"
            ]
          },
          "metadata": {},
          "execution_count": 6
        }
      ]
    },
    {
      "cell_type": "code",
      "source": [
        "train_labels\n"
      ],
      "metadata": {
        "colab": {
          "base_uri": "https://localhost:8080/"
        },
        "id": "O4ZBnLEokDN0",
        "outputId": "a132de9d-8ad7-419b-fa0a-2aea22f58f07"
      },
      "execution_count": 7,
      "outputs": [
        {
          "output_type": "execute_result",
          "data": {
            "text/plain": [
              "array([9, 0, 0, ..., 3, 0, 5], dtype=uint8)"
            ]
          },
          "metadata": {},
          "execution_count": 7
        }
      ]
    },
    {
      "cell_type": "code",
      "source": [
        "plt.figure()\n",
        "plt.imshow(train_images[9])\n",
        "plt.colorbar()\n",
        "plt.grid(False)\n",
        "plt.show()"
      ],
      "metadata": {
        "colab": {
          "base_uri": "https://localhost:8080/",
          "height": 430
        },
        "id": "knadqwPqkSqh",
        "outputId": "73d797f2-5307-4923-e66b-a2421b125a21"
      },
      "execution_count": 9,
      "outputs": [
        {
          "output_type": "display_data",
          "data": {
            "text/plain": [
              "<Figure size 640x480 with 2 Axes>"
            ],
            "image/png": "[encoded data removed]"
          },
          "metadata": {}
        }
      ]
    },
    {
      "cell_type": "code",
      "source": [
        "train_images = train_images / 255.0\n",
        "\n",
        "test_images = test_images / 255.0"
      ],
      "metadata": {
        "id": "urPpHQ9bmAYn"
      },
      "execution_count": 10,
      "outputs": []
    },
    {
      "cell_type": "code",
      "source": [
        "plt.figure(figsize=(10,10))\n",
        "for i in range(25):\n",
        "    plt.subplot(5,5,i+1)\n",
        "    plt.xticks([])\n",
        "    plt.yticks([])\n",
        "    plt.grid(False)\n",
        "    plt.imshow(train_images[i], cmap=plt.cm.binary)\n",
        "    #plt.xlabel(class_names[train_labels[i]])\n",
        "plt.show()"
      ],
      "metadata": {
        "colab": {
          "base_uri": "https://localhost:8080/",
          "height": 807
        },
        "id": "WBXq1bJamO6j",
        "outputId": "b948b0db-a394-4cfa-ec69-ed94c8a1008a"
      },
      "execution_count": 16,
      "outputs": [
        {
          "output_type": "display_data",
          "data": {
            "text/plain": [
              "<Figure size 1000x1000 with 25 Axes>"
            ],
            "image/png": "[encoded data removed]"
          },
          "metadata": {}
        }
      ]
    },
    {
      "cell_type": "code",
      "source": [
        "model = tf.keras.Sequential([\n",
        "    tf.keras.layers.Flatten(input_shape=(28, 28)),\n",
        "    tf.keras.layers.Dense(128, activation='relu'),\n",
        "    tf.keras.layers.Dense(10)\n",
        "])"
      ],
      "metadata": {
        "colab": {
          "base_uri": "https://localhost:8080/"
        },
        "id": "xS_nls9Ixsx5",
        "outputId": "de5fb4a3-8976-4609-9608-bb9c59b54270"
      },
      "execution_count": 17,
      "outputs": [
        {
          "output_type": "stream",
          "name": "stderr",
          "text": [
            "/usr/local/lib/python3.10/dist-packages/keras/src/layers/reshaping/flatten.py:37: UserWarning: Do not pass an `input_shape`/`input_dim` argument to a layer. When using Sequential models, prefer using an `Input(shape)` object as the first layer in the model instead.\n",
            "  super().__init__(**kwargs)\n"
          ]
        }
      ]
    },
    {
      "cell_type": "code",
      "source": [
        "model.compile(optimizer='adam',\n",
        "              loss=tf.keras.losses.SparseCategoricalCrossentropy(from_logits=True),\n",
        "              metrics=['accuracy'])"
      ],
      "metadata": {
        "id": "kbW-u_ijx2-V"
      },
      "execution_count": 18,
      "outputs": []
    },
    {
      "cell_type": "code",
      "source": [
        "img = test_images[1]\n",
        "\n",
        "print(img.shape)"
      ],
      "metadata": {
        "colab": {
          "base_uri": "https://localhost:8080/"
        },
        "id": "mn0dZP-qyK5M",
        "outputId": "9fdcbb24-0244-444b-c90e-cc4a0864c222"
      },
      "execution_count": 19,
      "outputs": [
        {
          "output_type": "stream",
          "name": "stdout",
          "text": [
            "(28, 28)\n"
          ]
        }
      ]
    },
    {
      "cell_type": "code",
      "source": [
        "img = (np.expand_dims(img,0))\n",
        "\n",
        "print(img)"
      ],
      "metadata": {
        "colab": {
          "base_uri": "https://localhost:8080/"
        },
        "id": "KEUqb-Jg9wn-",
        "outputId": "824f4037-08cb-424b-dc03-ed1b58025d1a"
      },
      "execution_count": 21,
      "outputs": [
        {
          "output_type": "stream",
          "name": "stdout",
          "text": [
            "[[[[0.         0.         0.         0.         0.         0.\n",
            "    0.         0.         0.         0.         0.05098039 0.2627451\n",
            "    0.         0.         0.         0.         0.19607843 0.14901961\n",
            "    0.         0.         0.         0.         0.         0.\n",
            "    0.         0.         0.         0.        ]\n",
            "   [0.         0.         0.         0.         0.         0.\n",
            "    0.         0.03137255 0.47058824 0.81960784 0.88627451 0.96862745\n",
            "    0.92941176 1.         1.         1.         0.96862745 0.93333333\n",
            "    0.92156863 0.6745098  0.28235294 0.         0.         0.\n",
            "    0.         0.         0.         0.        ]\n",
            "   [0.         0.         0.         0.         0.         0.\n",
            "    0.5372549  0.9372549  0.98823529 0.95294118 0.91764706 0.89803922\n",
            "    0.93333333 0.95686275 0.96470588 0.94117647 0.90196078 0.90980392\n",
            "    0.9372549  0.97254902 0.98431373 0.76078431 0.         0.\n",
            "    0.         0.         0.         0.        ]\n",
            "   [0.         0.         0.         0.         0.         0.4\n",
            "    1.         0.90588235 0.89411765 0.89019608 0.89411765 0.91372549\n",
            "    0.90196078 0.90196078 0.89803922 0.89411765 0.90980392 0.90980392\n",
            "    0.90588235 0.89019608 0.87843137 0.98823529 0.70196078 0.\n",
            "    0.         0.         0.         0.        ]\n",
            "   [0.         0.         0.         0.         0.         0.91372549\n",
            "    0.94509804 0.89803922 0.90588235 1.         1.         0.93333333\n",
            "    0.90588235 0.89019608 0.93333333 0.96470588 0.89411765 0.90196078\n",
            "    0.89019608 0.91764706 0.92156863 0.89803922 0.94509804 0.07843137\n",
            "    0.         0.         0.         0.        ]\n",
            "   [0.         0.         0.         0.         0.         0.97254902\n",
            "    0.94509804 0.90588235 1.         0.58431373 0.18431373 0.98823529\n",
            "    0.89411765 1.         0.94901961 0.84705882 0.93333333 0.90980392\n",
            "    1.         0.89411765 0.8627451  0.91764706 0.98039216 0.21176471\n",
            "    0.         0.         0.         0.        ]\n",
            "   [0.         0.         0.         0.         0.         1.\n",
            "    0.94117647 0.90980392 1.         0.05882353 0.         1.\n",
            "    0.92941176 0.74901961 0.         0.         0.83921569 1.\n",
            "    0.05098039 0.48235294 1.         0.91764706 0.98823529 0.44705882\n",
            "    0.         0.         0.         0.        ]\n",
            "   [0.         0.         0.         0.         0.02352941 1.\n",
            "    0.93333333 0.9372549  1.         0.69411765 0.         1.\n",
            "    1.         0.         0.50980392 0.45490196 0.18431373 0.25490196\n",
            "    0.16862745 0.14509804 1.         0.9254902  0.97647059 0.63529412\n",
            "    0.         0.         0.         0.        ]\n",
            "   [0.         0.         0.         0.         0.1254902  1.\n",
            "    0.9254902  0.96078431 1.         0.8        0.         1.\n",
            "    0.32941176 0.         0.14509804 0.10980392 0.12156863 0.\n",
            "    0.09803922 0.05098039 1.         0.9254902  0.97647059 0.78039216\n",
            "    0.         0.         0.         0.        ]\n",
            "   [0.         0.         0.         0.         0.20784314 1.\n",
            "    0.9254902  0.98039216 0.98039216 0.90588235 0.00784314 1.\n",
            "    0.08235294 0.         0.86666667 1.         0.9254902  0.21176471\n",
            "    0.96078431 0.77647059 0.95294118 0.93333333 0.96078431 0.8745098\n",
            "    0.         0.         0.         0.        ]\n",
            "   [0.         0.         0.         0.         0.31372549 1.\n",
            "    0.92941176 0.98039216 0.94117647 1.         0.         0.\n",
            "    0.15294118 0.61568627 0.         0.         0.84313725 0.36862745\n",
            "    0.07843137 0.49411765 1.         0.92941176 0.9372549  0.98039216\n",
            "    0.         0.         0.         0.        ]\n",
            "   [0.         0.         0.         0.         0.39607843 1.\n",
            "    0.92156863 0.99215686 0.95686275 0.95294118 0.52156863 0.54117647\n",
            "    0.81568627 1.         0.78823529 0.83921569 1.         0.90196078\n",
            "    0.02745098 0.68235294 1.         0.94117647 0.93333333 1.\n",
            "    0.         0.         0.         0.        ]\n",
            "   [0.         0.         0.         0.         0.49411765 1.\n",
            "    0.91372549 1.         0.97254902 0.91372549 1.         1.\n",
            "    0.94117647 0.90980392 0.95294118 0.95294118 0.90588235 0.98431373\n",
            "    1.         1.         0.99607843 0.95294118 0.93333333 1.\n",
            "    0.01176471 0.         0.         0.        ]\n",
            "   [0.         0.         0.         0.         0.57647059 1.\n",
            "    0.91372549 0.97647059 0.70980392 0.95294118 0.89019608 0.87843137\n",
            "    0.90196078 0.91764706 0.90196078 0.90196078 0.92156863 0.89411765\n",
            "    0.92156863 0.87058824 0.81176471 1.         0.9254902  1.\n",
            "    0.1372549  0.         0.         0.        ]\n",
            "   [0.         0.         0.         0.         0.63921569 1.\n",
            "    0.96078431 0.86666667 0.3372549  1.         0.91372549 0.91372549\n",
            "    0.92156863 0.9254902  0.91764706 0.91764706 0.91764706 0.90980392\n",
            "    0.94901961 0.90588235 0.49019608 1.         0.9254902  1.\n",
            "    0.21568627 0.         0.         0.        ]\n",
            "   [0.         0.         0.         0.         0.70980392 0.99607843\n",
            "    1.         0.78431373 0.27058824 1.         0.89411765 0.90980392\n",
            "    0.91764706 0.92156863 0.91764706 0.91764706 0.91372549 0.92156863\n",
            "    0.94509804 0.92941176 0.2745098  1.         0.92156863 0.96470588\n",
            "    0.22352941 0.         0.         0.        ]\n",
            "   [0.         0.         0.         0.         0.77254902 0.96862745\n",
            "    1.         0.7372549  0.43137255 1.         0.87843137 0.91372549\n",
            "    0.91764706 0.91764706 0.91764706 0.91764706 0.91764706 0.91764706\n",
            "    0.94117647 0.99215686 0.27058824 1.         0.9254902  0.97254902\n",
            "    0.30196078 0.         0.         0.        ]\n",
            "   [0.         0.         0.         0.         0.78431373 0.96470588\n",
            "    1.         0.58431373 0.56862745 1.         0.8745098  0.92156863\n",
            "    0.91764706 0.92156863 0.92156863 0.92156863 0.91764706 0.92941176\n",
            "    0.91372549 1.         0.18431373 1.         0.9372549  0.97647059\n",
            "    0.38431373 0.         0.         0.        ]\n",
            "   [0.         0.         0.         0.         0.8        0.95294118\n",
            "    1.         0.43529412 0.67843137 1.         0.89019608 0.92156863\n",
            "    0.92156863 0.9254902  0.92156863 0.92156863 0.92156863 0.9372549\n",
            "    0.89803922 1.         0.0745098  0.89019608 0.96470588 0.97647059\n",
            "    0.43137255 0.         0.         0.        ]\n",
            "   [0.         0.         0.         0.         0.76862745 0.94117647\n",
            "    1.         0.42745098 0.83529412 0.98039216 0.89803922 0.92156863\n",
            "    0.92156863 0.9254902  0.92156863 0.92941176 0.9254902  0.92941176\n",
            "    0.88627451 1.         0.21568627 0.79607843 0.98431373 0.96078431\n",
            "    0.47058824 0.         0.         0.        ]\n",
            "   [0.         0.         0.         0.         0.75294118 0.95294118\n",
            "    1.         0.44705882 0.90980392 0.94117647 0.90980392 0.92156863\n",
            "    0.92156863 0.9254902  0.91764706 0.92941176 0.9254902  0.92156863\n",
            "    0.89803922 1.         0.5254902  0.67058824 0.98823529 0.95686275\n",
            "    0.5372549  0.         0.         0.        ]\n",
            "   [0.         0.         0.         0.         0.74117647 0.98431373\n",
            "    1.         0.60392157 0.93333333 0.91372549 0.9254902  0.91764706\n",
            "    0.92156863 0.9254902  0.92156863 0.93333333 0.9254902  0.92156863\n",
            "    0.90980392 1.         0.65098039 0.49019608 1.         0.95294118\n",
            "    0.55686275 0.         0.         0.        ]\n",
            "   [0.         0.         0.         0.         0.71764706 0.98823529\n",
            "    1.         0.67058824 0.96862745 0.90980392 0.91764706 0.91764706\n",
            "    0.91372549 0.91372549 0.90980392 0.91764706 0.91372549 0.91764706\n",
            "    0.91372549 0.94117647 0.8745098  0.50196078 1.         0.94901961\n",
            "    0.59215686 0.         0.         0.        ]\n",
            "   [0.         0.         0.         0.         0.69803922 0.95294118\n",
            "    1.         0.22352941 0.93333333 0.94509804 0.93333333 0.93333333\n",
            "    0.93333333 0.92941176 0.9254902  0.92941176 0.92941176 0.94117647\n",
            "    0.92941176 0.99607843 0.69019608 0.20392157 1.         0.9372549\n",
            "    0.61568627 0.         0.         0.        ]\n",
            "   [0.         0.         0.         0.         0.7372549  0.94117647\n",
            "    0.98039216 0.24313725 0.85490196 1.         0.8627451  0.87058824\n",
            "    0.87058824 0.87058824 0.8745098  0.8745098  0.87843137 0.87058824\n",
            "    0.85490196 1.         0.60392157 0.1254902  1.         0.9254902\n",
            "    0.7372549  0.         0.         0.        ]\n",
            "   [0.         0.         0.         0.         0.50980392 0.96078431\n",
            "    0.94901961 0.09411765 0.         0.         0.         0.\n",
            "    0.         0.         0.         0.         0.         0.\n",
            "    0.         0.         0.         0.13333333 0.94901961 0.95686275\n",
            "    0.52941176 0.         0.         0.        ]\n",
            "   [0.         0.         0.         0.         0.29803922 1.\n",
            "    0.97647059 0.08627451 0.         0.         0.         0.\n",
            "    0.         0.         0.         0.         0.         0.\n",
            "    0.         0.         0.         0.15294118 0.97647059 1.\n",
            "    0.48235294 0.         0.         0.        ]\n",
            "   [0.         0.         0.         0.         0.19215686 0.80392157\n",
            "    0.77254902 0.04313725 0.         0.01568627 0.00392157 0.00784314\n",
            "    0.00784314 0.00784314 0.00784314 0.00784314 0.00784314 0.00784314\n",
            "    0.00784314 0.01176471 0.         0.01176471 0.68235294 0.74117647\n",
            "    0.2627451  0.         0.         0.        ]]]]\n"
          ]
        }
      ]
    }
  ]
}